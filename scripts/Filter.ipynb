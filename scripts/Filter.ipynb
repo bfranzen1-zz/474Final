{
 "cells": [
  {
   "cell_type": "code",
   "execution_count": 1,
   "metadata": {},
   "outputs": [],
   "source": [
    "import pandas as pd\n",
    "import csv\n",
    "import datetime\n",
    "# Load the data\n",
    "cab = pd.read_csv('../data/cab_rides.csv', encoding='UTF-16le', sep='\\t')\n",
    "wthr = pd.read_csv('../data/weather.csv', encoding='UTF-16le', sep='\\t')"
   ]
  },
  {
   "cell_type": "code",
   "execution_count": 2,
   "metadata": {},
   "outputs": [],
   "source": [
    "# change null values in rain column to 0 \n",
    "wthr.rain = wthr.rain.fillna(0)"
   ]
  },
  {
   "cell_type": "code",
   "execution_count": 3,
   "metadata": {},
   "outputs": [],
   "source": [
    "# drop nulls in cab data (most, if not all, in price column)\n",
    "cab = cab.dropna()"
   ]
  },
  {
   "cell_type": "code",
   "execution_count": 4,
   "metadata": {},
   "outputs": [],
   "source": [
    "# change epoch times to datetime\n",
    "cab.loc[cab.time_stamp != 0, 'time_stamp'] = pd.to_datetime(cab.time_stamp/1000, unit='s', origin='unix')"
   ]
  },
  {
   "cell_type": "code",
   "execution_count": 5,
   "metadata": {},
   "outputs": [],
   "source": [
    "# export generated csv file to local data folder\n",
    "cab.to_csv('../data/clean_cab_rides.csv', index=False, quoting=csv.QUOTE_NONNUMERIC)\n",
    "wthr.to_csv('../data/clean_weather.csv', index=False, quoting=csv.QUOTE_NONNUMERIC)\n",
    "# delete from mem after use\n",
    "del cab\n",
    "del wthr"
   ]
  }
 ],
 "metadata": {
  "kernelspec": {
   "display_name": "Python 3",
   "language": "python",
   "name": "python3"
  },
  "language_info": {
   "codemirror_mode": {
    "name": "ipython",
    "version": 3
   },
   "file_extension": ".py",
   "mimetype": "text/x-python",
   "name": "python",
   "nbconvert_exporter": "python",
   "pygments_lexer": "ipython3",
   "version": "3.7.0"
  }
 },
 "nbformat": 4,
 "nbformat_minor": 2
}
